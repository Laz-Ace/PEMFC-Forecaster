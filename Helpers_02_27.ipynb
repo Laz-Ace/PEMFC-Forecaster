{
 "cells": [
  {
   "cell_type": "code",
   "execution_count": 18,
   "id": "1e66e4e8",
   "metadata": {
    "scrolled": true
   },
   "outputs": [],
   "source": [
    "import tensorflow as tf\n",
    "import numpy as np\n",
    "\n",
    "from tensorflow import keras\n",
    "from tensorflow.keras.layers import Dense, Input"
   ]
  },
  {
   "cell_type": "code",
   "execution_count": 24,
   "id": "04322964",
   "metadata": {},
   "outputs": [],
   "source": [
    "def building_models(max_layers, window_size, horizon):\n",
    "    \"\"\"\n",
    "    Max_layers: The size of the largest model you want to construct\n",
    "    window_size: Size of input for model\n",
    "    horizon: Size of output for model\n",
    "    \"\"\"\n",
    "    \n",
    "    models = []\n",
    "    temp = []\n",
    "    \n",
    "    for x in range(max_layers):\n",
    "        model = keras.Sequential([], x)\n",
    "        model.add(Input(shape=window_size),)\n",
    "        \n",
    "        for i in range(x):\n",
    "            model.add(Dense(128, activation=\"relu\"))\n",
    "            \n",
    "        model.add(Dense(horizon))\n",
    "        models.append(model)\n",
    "    \n",
    "    return(models)"
   ]
  },
  {
   "cell_type": "code",
   "execution_count": 25,
   "id": "8afa7432",
   "metadata": {},
   "outputs": [],
   "source": [
    "def create_model_checkpoint(model_name, save_path=\"model_experiments\"):\n",
    "    \"\"\"\n",
    "    Create a function to implement a ModelCheckpoint callback\n",
    "    \"\"\"\n",
    "    \n",
    "    return tf.keras.callbacks.ModelCheckpoint(filepath=os.path.join(save_path, model_name),\n",
    "                                              monitor=\"val_loss\",\n",
    "                                              verbose=0,\n",
    "                                              save_best_only=True)"
   ]
  },
  {
   "cell_type": "code",
   "execution_count": 39,
   "id": "414efb9c",
   "metadata": {},
   "outputs": [],
   "source": [
    "def compile_and_fit(list_of_models, X_data, y_data, optimizer='Adam', loss='mae'):\n",
    "    \"\"\"\n",
    "    Fits and compiles each model individually as well as saves the best attempt of each model\n",
    "    \"\"\"\n",
    "    \n",
    "    fitted_models = []\n",
    "    \n",
    "    for i in np.arange(len(list_of_models)):\n",
    "        list_of_models[i].compile(optimizer=optimizer, loss=loss)\n",
    "        list_of_models[i].fit(X_data,\n",
    "                                  y_data,\n",
    "                                  epochs=10,\n",
    "                                  batch_size=64,\n",
    "                                  validation_data=(X_data, y_data),\n",
    "                                  verbose=0)\n",
    "        \n",
    "        create_model_checkpoint(list_of_models[model].name)"
   ]
  },
  {
   "cell_type": "code",
   "execution_count": 43,
   "id": "f6c285cb",
   "metadata": {},
   "outputs": [],
   "source": [
    "def mega_function(total_models, x_data, y_data):\n",
    "    \"\"\"\n",
    "    Function to attempt to find out the optimal amount of layers for a model\n",
    "    \"\"\"\n",
    "    \n",
    "    models = building_models(total_models)\n",
    "    compile_and_fit(models, x_data, y_data)"
   ]
  }
 ],
 "metadata": {
  "kernelspec": {
   "display_name": "Python 3 (ipykernel)",
   "language": "python",
   "name": "python3"
  },
  "language_info": {
   "codemirror_mode": {
    "name": "ipython",
    "version": 3
   },
   "file_extension": ".py",
   "mimetype": "text/x-python",
   "name": "python",
   "nbconvert_exporter": "python",
   "pygments_lexer": "ipython3",
   "version": "3.9.13"
  }
 },
 "nbformat": 4,
 "nbformat_minor": 5
}
